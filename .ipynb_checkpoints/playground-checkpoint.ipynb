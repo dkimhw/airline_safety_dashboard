{
 "cells": [
  {
   "cell_type": "code",
   "execution_count": 1,
   "metadata": {},
   "outputs": [],
   "source": [
    "# Test data\n",
    "import data_processing as dp"
   ]
  },
  {
   "cell_type": "code",
   "execution_count": 2,
   "metadata": {},
   "outputs": [],
   "source": [
    "df_long = dp.get_long_data()"
   ]
  },
  {
   "cell_type": "code",
   "execution_count": 3,
   "metadata": {},
   "outputs": [
    {
     "data": {
      "text/html": [
       "<div>\n",
       "<style scoped>\n",
       "    .dataframe tbody tr th:only-of-type {\n",
       "        vertical-align: middle;\n",
       "    }\n",
       "\n",
       "    .dataframe tbody tr th {\n",
       "        vertical-align: top;\n",
       "    }\n",
       "\n",
       "    .dataframe thead th {\n",
       "        text-align: right;\n",
       "    }\n",
       "</style>\n",
       "<table border=\"1\" class=\"dataframe\">\n",
       "  <thead>\n",
       "    <tr style=\"text-align: right;\">\n",
       "      <th></th>\n",
       "      <th>airline</th>\n",
       "      <th>avail_seat_km</th>\n",
       "      <th>period</th>\n",
       "      <th>incidents</th>\n",
       "      <th>fatal_accidents</th>\n",
       "      <th>fatalities</th>\n",
       "      <th>incident_rate</th>\n",
       "      <th>fatal_accidents_rate</th>\n",
       "      <th>fatalities_rate</th>\n",
       "    </tr>\n",
       "  </thead>\n",
       "  <tbody>\n",
       "    <tr>\n",
       "      <th>0</th>\n",
       "      <td>Aer Lingus</td>\n",
       "      <td>250307252520</td>\n",
       "      <td>2000-2014</td>\n",
       "      <td>0.0</td>\n",
       "      <td>0.0</td>\n",
       "      <td>0.0</td>\n",
       "      <td>0.000000</td>\n",
       "      <td>0.000000</td>\n",
       "      <td>0.000000</td>\n",
       "    </tr>\n",
       "    <tr>\n",
       "      <th>1</th>\n",
       "      <td>Aeroflot*</td>\n",
       "      <td>934184408040</td>\n",
       "      <td>2000-2014</td>\n",
       "      <td>6.0</td>\n",
       "      <td>1.0</td>\n",
       "      <td>88.0</td>\n",
       "      <td>6.422715</td>\n",
       "      <td>1.070452</td>\n",
       "      <td>94.199817</td>\n",
       "    </tr>\n",
       "    <tr>\n",
       "      <th>2</th>\n",
       "      <td>Aerolineas Argentinas</td>\n",
       "      <td>300926845440</td>\n",
       "      <td>2000-2014</td>\n",
       "      <td>1.0</td>\n",
       "      <td>0.0</td>\n",
       "      <td>0.0</td>\n",
       "      <td>3.323067</td>\n",
       "      <td>0.000000</td>\n",
       "      <td>0.000000</td>\n",
       "    </tr>\n",
       "    <tr>\n",
       "      <th>3</th>\n",
       "      <td>Aeromexico*</td>\n",
       "      <td>465560014140</td>\n",
       "      <td>2000-2014</td>\n",
       "      <td>5.0</td>\n",
       "      <td>0.0</td>\n",
       "      <td>0.0</td>\n",
       "      <td>10.739754</td>\n",
       "      <td>0.000000</td>\n",
       "      <td>0.000000</td>\n",
       "    </tr>\n",
       "    <tr>\n",
       "      <th>4</th>\n",
       "      <td>Air Canada</td>\n",
       "      <td>1454897965560</td>\n",
       "      <td>2000-2014</td>\n",
       "      <td>2.0</td>\n",
       "      <td>0.0</td>\n",
       "      <td>0.0</td>\n",
       "      <td>1.374667</td>\n",
       "      <td>0.000000</td>\n",
       "      <td>0.000000</td>\n",
       "    </tr>\n",
       "  </tbody>\n",
       "</table>\n",
       "</div>"
      ],
      "text/plain": [
       "                 airline  avail_seat_km     period  incidents  \\\n",
       "0             Aer Lingus   250307252520  2000-2014        0.0   \n",
       "1              Aeroflot*   934184408040  2000-2014        6.0   \n",
       "2  Aerolineas Argentinas   300926845440  2000-2014        1.0   \n",
       "3            Aeromexico*   465560014140  2000-2014        5.0   \n",
       "4             Air Canada  1454897965560  2000-2014        2.0   \n",
       "\n",
       "   fatal_accidents  fatalities  incident_rate  fatal_accidents_rate  \\\n",
       "0              0.0         0.0       0.000000              0.000000   \n",
       "1              1.0        88.0       6.422715              1.070452   \n",
       "2              0.0         0.0       3.323067              0.000000   \n",
       "3              0.0         0.0      10.739754              0.000000   \n",
       "4              0.0         0.0       1.374667              0.000000   \n",
       "\n",
       "   fatalities_rate  \n",
       "0         0.000000  \n",
       "1        94.199817  \n",
       "2         0.000000  \n",
       "3         0.000000  \n",
       "4         0.000000  "
      ]
     },
     "execution_count": 3,
     "metadata": {},
     "output_type": "execute_result"
    }
   ],
   "source": [
    "df_long.head()"
   ]
  },
  {
   "cell_type": "code",
   "execution_count": 4,
   "metadata": {},
   "outputs": [],
   "source": [
    "df = dp.get_data()"
   ]
  },
  {
   "cell_type": "code",
   "execution_count": 5,
   "metadata": {},
   "outputs": [],
   "source": [
    "import plotly.graph_objs as go"
   ]
  },
  {
   "cell_type": "code",
   "execution_count": 6,
   "metadata": {},
   "outputs": [
    {
     "name": "stdout",
     "output_type": "stream",
     "text": [
      "['2000-2014' '1985-1999']\n"
     ]
    }
   ],
   "source": [
    "period_unique = df_long.period.unique()\n",
    "print(period_unique)"
   ]
  },
  {
   "cell_type": "code",
   "execution_count": 7,
   "metadata": {},
   "outputs": [],
   "source": [
    "period_agg = df_long.groupby('period', as_index=False).agg({'incident_rate': 'mean'})"
   ]
  },
  {
   "cell_type": "code",
   "execution_count": 8,
   "metadata": {},
   "outputs": [
    {
     "data": {
      "text/html": [
       "<div>\n",
       "<style scoped>\n",
       "    .dataframe tbody tr th:only-of-type {\n",
       "        vertical-align: middle;\n",
       "    }\n",
       "\n",
       "    .dataframe tbody tr th {\n",
       "        vertical-align: top;\n",
       "    }\n",
       "\n",
       "    .dataframe thead th {\n",
       "        text-align: right;\n",
       "    }\n",
       "</style>\n",
       "<table border=\"1\" class=\"dataframe\">\n",
       "  <thead>\n",
       "    <tr style=\"text-align: right;\">\n",
       "      <th></th>\n",
       "      <th>period</th>\n",
       "      <th>incident_rate</th>\n",
       "    </tr>\n",
       "  </thead>\n",
       "  <tbody>\n",
       "    <tr>\n",
       "      <th>0</th>\n",
       "      <td>1985-1999</td>\n",
       "      <td>10.147115</td>\n",
       "    </tr>\n",
       "    <tr>\n",
       "      <th>1</th>\n",
       "      <td>2000-2014</td>\n",
       "      <td>5.281474</td>\n",
       "    </tr>\n",
       "  </tbody>\n",
       "</table>\n",
       "</div>"
      ],
      "text/plain": [
       "      period  incident_rate\n",
       "0  1985-1999      10.147115\n",
       "1  2000-2014       5.281474"
      ]
     },
     "execution_count": 8,
     "metadata": {},
     "output_type": "execute_result"
    }
   ],
   "source": [
    "period_agg"
   ]
  },
  {
   "cell_type": "code",
   "execution_count": 9,
   "metadata": {},
   "outputs": [],
   "source": [
    "period_inc_mean = df_long.groupby('period', as_index=False).agg({'incident_rate': 'mean'}) \n",
    "period_inc_man_bar = go.Figure(\n",
    "    [go.Bar(\n",
    "        x= period_inc_mean['period']\n",
    "        , y= period_inc_mean['incident_rate']\n",
    "    )]\n",
    ")"
   ]
  },
  {
   "cell_type": "code",
   "execution_count": 10,
   "metadata": {},
   "outputs": [],
   "source": [
    "period_total_perc = df_long.groupby('period', as_index=False).agg({\n",
    "    'incidents': 'sum',\n",
    "    'fatal_accidents': 'sum'\n",
    "})\n",
    "period_total_perc['total'] = period_total_perc.incidents + period_total_perc.fatal_accidents\n",
    "period_total_perc['perc_of_incidents'] = (period_total_perc.incidents / period_total_perc.total) * 100\n",
    "period_total_perc['perc_of_fatal_accidents'] = (period_total_perc.fatal_accidents / period_total_perc.total) * 100"
   ]
  },
  {
   "cell_type": "code",
   "execution_count": 11,
   "metadata": {},
   "outputs": [
    {
     "data": {
      "text/html": [
       "<div>\n",
       "<style scoped>\n",
       "    .dataframe tbody tr th:only-of-type {\n",
       "        vertical-align: middle;\n",
       "    }\n",
       "\n",
       "    .dataframe tbody tr th {\n",
       "        vertical-align: top;\n",
       "    }\n",
       "\n",
       "    .dataframe thead th {\n",
       "        text-align: right;\n",
       "    }\n",
       "</style>\n",
       "<table border=\"1\" class=\"dataframe\">\n",
       "  <thead>\n",
       "    <tr style=\"text-align: right;\">\n",
       "      <th></th>\n",
       "      <th>period</th>\n",
       "      <th>incidents</th>\n",
       "      <th>fatal_accidents</th>\n",
       "      <th>total</th>\n",
       "      <th>perc_of_incidents</th>\n",
       "      <th>perc_of_fatal_accidents</th>\n",
       "    </tr>\n",
       "  </thead>\n",
       "  <tbody>\n",
       "    <tr>\n",
       "      <th>0</th>\n",
       "      <td>1985-1999</td>\n",
       "      <td>402.0</td>\n",
       "      <td>122.0</td>\n",
       "      <td>524.0</td>\n",
       "      <td>76.717557</td>\n",
       "      <td>23.282443</td>\n",
       "    </tr>\n",
       "    <tr>\n",
       "      <th>1</th>\n",
       "      <td>2000-2014</td>\n",
       "      <td>231.0</td>\n",
       "      <td>37.0</td>\n",
       "      <td>268.0</td>\n",
       "      <td>86.194030</td>\n",
       "      <td>13.805970</td>\n",
       "    </tr>\n",
       "  </tbody>\n",
       "</table>\n",
       "</div>"
      ],
      "text/plain": [
       "      period  incidents  fatal_accidents  total  perc_of_incidents  \\\n",
       "0  1985-1999      402.0            122.0  524.0          76.717557   \n",
       "1  2000-2014      231.0             37.0  268.0          86.194030   \n",
       "\n",
       "   perc_of_fatal_accidents  \n",
       "0                23.282443  \n",
       "1                13.805970  "
      ]
     },
     "execution_count": 11,
     "metadata": {},
     "output_type": "execute_result"
    }
   ],
   "source": [
    "period_total_perc"
   ]
  },
  {
   "cell_type": "code",
   "execution_count": 12,
   "metadata": {},
   "outputs": [],
   "source": [
    "period_mean = df_long.groupby('period', as_index=False).agg({\n",
    "    'incident_rate': 'mean',\n",
    "    'fatal_accidents_rate': 'mean'\n",
    "}) \n"
   ]
  },
  {
   "cell_type": "code",
   "execution_count": 13,
   "metadata": {},
   "outputs": [
    {
     "data": {
      "text/plain": [
       "5.28147378789717"
      ]
     },
     "execution_count": 13,
     "metadata": {},
     "output_type": "execute_result"
    }
   ],
   "source": [
    "period_mean.loc[period_mean.period == '2000-2014', 'incident_rate'].max()"
   ]
  },
  {
   "cell_type": "code",
   "execution_count": 14,
   "metadata": {},
   "outputs": [
    {
     "data": {
      "text/plain": [
       "'2000-2014 Fatal Accidents Rate<br>% Change from 1980-1999'"
      ]
     },
     "execution_count": 14,
     "metadata": {},
     "output_type": "execute_result"
    }
   ],
   "source": [
    "# Helper Functions\n",
    "def multiple_string_lines(title, threshold):\n",
    "    if (len(title) > threshold):\n",
    "        words_arr = title.split(' ')\n",
    "        interval = int(len(words_arr) / 2)\n",
    "        return ' '.join(words_arr[0:interval]) + '<br>' + ' '.join(words_arr[interval:len(words_arr)])\n",
    "    else:\n",
    "        return title\n",
    "    \n",
    "title = '2000-2014 Fatal Accidents Rate % Change from 1980-1999'\n",
    "\n",
    "multiple_string_lines(title, 10)"
   ]
  },
  {
   "cell_type": "code",
   "execution_count": 15,
   "metadata": {},
   "outputs": [
    {
     "data": {
      "text/html": [
       "<div>\n",
       "<style scoped>\n",
       "    .dataframe tbody tr th:only-of-type {\n",
       "        vertical-align: middle;\n",
       "    }\n",
       "\n",
       "    .dataframe tbody tr th {\n",
       "        vertical-align: top;\n",
       "    }\n",
       "\n",
       "    .dataframe thead th {\n",
       "        text-align: right;\n",
       "    }\n",
       "</style>\n",
       "<table border=\"1\" class=\"dataframe\">\n",
       "  <thead>\n",
       "    <tr style=\"text-align: right;\">\n",
       "      <th></th>\n",
       "      <th>airline</th>\n",
       "      <th>avail_seat_km_per_week</th>\n",
       "      <th>incidents_85_99</th>\n",
       "      <th>fatal_accidents_85_99</th>\n",
       "      <th>fatalities_85_99</th>\n",
       "      <th>incidents_00_14</th>\n",
       "      <th>fatal_accidents_00_14</th>\n",
       "      <th>fatalities_00_14</th>\n",
       "      <th>avail_seat_km</th>\n",
       "      <th>incident_rate_85_99</th>\n",
       "      <th>fatal_accidents_rate_85_99</th>\n",
       "      <th>fatalities_rate_85_99</th>\n",
       "      <th>incident_rate_00_14</th>\n",
       "      <th>fatal_accidents_rate_00_14</th>\n",
       "      <th>fatalities_rate_00_14</th>\n",
       "      <th>Incident Rate % Change</th>\n",
       "      <th>Fatal Accidents Rate % Change</th>\n",
       "    </tr>\n",
       "  </thead>\n",
       "  <tbody>\n",
       "    <tr>\n",
       "      <th>15</th>\n",
       "      <td>Cathay Pacific*</td>\n",
       "      <td>2582459303</td>\n",
       "      <td>0</td>\n",
       "      <td>0</td>\n",
       "      <td>0</td>\n",
       "      <td>2</td>\n",
       "      <td>0</td>\n",
       "      <td>0</td>\n",
       "      <td>2014318256340</td>\n",
       "      <td>0.000000</td>\n",
       "      <td>0.0</td>\n",
       "      <td>0.0</td>\n",
       "      <td>0.992892</td>\n",
       "      <td>0.00000</td>\n",
       "      <td>0.000000</td>\n",
       "      <td>inf</td>\n",
       "      <td>0.0</td>\n",
       "    </tr>\n",
       "    <tr>\n",
       "      <th>26</th>\n",
       "      <td>Hawaiian Airlines</td>\n",
       "      <td>493877795</td>\n",
       "      <td>0</td>\n",
       "      <td>0</td>\n",
       "      <td>0</td>\n",
       "      <td>1</td>\n",
       "      <td>0</td>\n",
       "      <td>0</td>\n",
       "      <td>385224680100</td>\n",
       "      <td>0.000000</td>\n",
       "      <td>0.0</td>\n",
       "      <td>0.0</td>\n",
       "      <td>2.595888</td>\n",
       "      <td>0.00000</td>\n",
       "      <td>0.000000</td>\n",
       "      <td>inf</td>\n",
       "      <td>0.0</td>\n",
       "    </tr>\n",
       "    <tr>\n",
       "      <th>43</th>\n",
       "      <td>Southwest Airlines</td>\n",
       "      <td>3276525770</td>\n",
       "      <td>1</td>\n",
       "      <td>0</td>\n",
       "      <td>0</td>\n",
       "      <td>8</td>\n",
       "      <td>0</td>\n",
       "      <td>0</td>\n",
       "      <td>2555690100600</td>\n",
       "      <td>0.391284</td>\n",
       "      <td>0.0</td>\n",
       "      <td>0.0</td>\n",
       "      <td>3.130270</td>\n",
       "      <td>0.00000</td>\n",
       "      <td>0.000000</td>\n",
       "      <td>700.0</td>\n",
       "      <td>0.0</td>\n",
       "    </tr>\n",
       "    <tr>\n",
       "      <th>37</th>\n",
       "      <td>Qantas*</td>\n",
       "      <td>1917428984</td>\n",
       "      <td>1</td>\n",
       "      <td>0</td>\n",
       "      <td>0</td>\n",
       "      <td>5</td>\n",
       "      <td>0</td>\n",
       "      <td>0</td>\n",
       "      <td>1495594607520</td>\n",
       "      <td>0.668630</td>\n",
       "      <td>0.0</td>\n",
       "      <td>0.0</td>\n",
       "      <td>3.343152</td>\n",
       "      <td>0.00000</td>\n",
       "      <td>0.000000</td>\n",
       "      <td>400.0</td>\n",
       "      <td>0.0</td>\n",
       "    </tr>\n",
       "    <tr>\n",
       "      <th>25</th>\n",
       "      <td>Gulf Air</td>\n",
       "      <td>301379762</td>\n",
       "      <td>1</td>\n",
       "      <td>0</td>\n",
       "      <td>0</td>\n",
       "      <td>3</td>\n",
       "      <td>1</td>\n",
       "      <td>143</td>\n",
       "      <td>235076214360</td>\n",
       "      <td>4.253940</td>\n",
       "      <td>0.0</td>\n",
       "      <td>0.0</td>\n",
       "      <td>12.761819</td>\n",
       "      <td>4.25394</td>\n",
       "      <td>608.313352</td>\n",
       "      <td>200.0</td>\n",
       "      <td>inf</td>\n",
       "    </tr>\n",
       "  </tbody>\n",
       "</table>\n",
       "</div>"
      ],
      "text/plain": [
       "               airline  avail_seat_km_per_week  incidents_85_99  \\\n",
       "15     Cathay Pacific*              2582459303                0   \n",
       "26   Hawaiian Airlines               493877795                0   \n",
       "43  Southwest Airlines              3276525770                1   \n",
       "37             Qantas*              1917428984                1   \n",
       "25            Gulf Air               301379762                1   \n",
       "\n",
       "    fatal_accidents_85_99  fatalities_85_99  incidents_00_14  \\\n",
       "15                      0                 0                2   \n",
       "26                      0                 0                1   \n",
       "43                      0                 0                8   \n",
       "37                      0                 0                5   \n",
       "25                      0                 0                3   \n",
       "\n",
       "    fatal_accidents_00_14  fatalities_00_14  avail_seat_km  \\\n",
       "15                      0                 0  2014318256340   \n",
       "26                      0                 0   385224680100   \n",
       "43                      0                 0  2555690100600   \n",
       "37                      0                 0  1495594607520   \n",
       "25                      1               143   235076214360   \n",
       "\n",
       "    incident_rate_85_99  fatal_accidents_rate_85_99  fatalities_rate_85_99  \\\n",
       "15             0.000000                         0.0                    0.0   \n",
       "26             0.000000                         0.0                    0.0   \n",
       "43             0.391284                         0.0                    0.0   \n",
       "37             0.668630                         0.0                    0.0   \n",
       "25             4.253940                         0.0                    0.0   \n",
       "\n",
       "    incident_rate_00_14  fatal_accidents_rate_00_14  fatalities_rate_00_14  \\\n",
       "15             0.992892                     0.00000               0.000000   \n",
       "26             2.595888                     0.00000               0.000000   \n",
       "43             3.130270                     0.00000               0.000000   \n",
       "37             3.343152                     0.00000               0.000000   \n",
       "25            12.761819                     4.25394             608.313352   \n",
       "\n",
       "    Incident Rate % Change  Fatal Accidents Rate % Change  \n",
       "15                     inf                            0.0  \n",
       "26                     inf                            0.0  \n",
       "43                   700.0                            0.0  \n",
       "37                   400.0                            0.0  \n",
       "25                   200.0                            inf  "
      ]
     },
     "execution_count": 15,
     "metadata": {},
     "output_type": "execute_result"
    }
   ],
   "source": [
    "# Calculate % of change for each airline - time preiod\n",
    "df['Incident Rate % Change'] = ((df.incident_rate_00_14 - df.incident_rate_85_99) \\\n",
    "                                    / df.incident_rate_85_99 * 100)\n",
    "\n",
    "df['Fatal Accidents Rate % Change'] = ((df.fatal_accidents_rate_00_14 - df.fatal_accidents_rate_85_99) \\\n",
    "                                            / df.fatal_accidents_rate_85_99 * 100)\n",
    "\n",
    "df['Incident Rate % Change'].fillna(0, inplace = True)\n",
    "df['Fatal Accidents Rate % Change'].fillna(0, inplace = True)\n",
    "\n",
    "df.sort_values(by='Incident Rate % Change', ascending = False).head()"
   ]
  },
  {
   "cell_type": "code",
   "execution_count": 16,
   "metadata": {},
   "outputs": [],
   "source": [
    "import numpy as np\n",
    "# Calculate % of change for each airline - time preiod\n",
    "df['Incident Rate % Change'] = ((df.incident_rate_00_14 - df.incident_rate_85_99) \\\n",
    "                                    / df.incident_rate_85_99 * 100)\n",
    "\n",
    "df['Fatal Accidents Rate % Change'] = ((df.fatal_accidents_rate_00_14 - df.fatal_accidents_rate_85_99) \\\n",
    "                                            / df.fatal_accidents_rate_85_99 * 100)\n",
    "\n",
    "df['Incident Rate % Change'].fillna(0, inplace = True)\n",
    "df['Fatal Accidents Rate % Change'].fillna(0, inplace = True)\n",
    "df = df.replace([np.inf, -np.inf], np.nan)\n",
    "\n",
    "df_incidents = df.copy()\n",
    "df_incidents = df_incidents.dropna(subset=[\"Incident Rate % Change\"], how = 'all')\n",
    "df_incidents = df_incidents.sort_values(by = 'Incident Rate % Change', ascending = False)\n",
    "df_incidents ['Incident Rate % Change'] = df_incidents ['Incident Rate % Change'].apply(lambda i : \"{0:.2f}%\".format(i))\n",
    "df_incidents ['Fatal Accidents Rate % Change'] = df_incidents ['Fatal Accidents Rate % Change'].apply(lambda i : \"{0:.2f}%\".format(i))\n",
    "\n"
   ]
  },
  {
   "cell_type": "code",
   "execution_count": 17,
   "metadata": {},
   "outputs": [
    {
     "data": {
      "text/html": [
       "<div>\n",
       "<style scoped>\n",
       "    .dataframe tbody tr th:only-of-type {\n",
       "        vertical-align: middle;\n",
       "    }\n",
       "\n",
       "    .dataframe tbody tr th {\n",
       "        vertical-align: top;\n",
       "    }\n",
       "\n",
       "    .dataframe thead th {\n",
       "        text-align: right;\n",
       "    }\n",
       "</style>\n",
       "<table border=\"1\" class=\"dataframe\">\n",
       "  <thead>\n",
       "    <tr style=\"text-align: right;\">\n",
       "      <th></th>\n",
       "      <th>airline</th>\n",
       "      <th>avail_seat_km_per_week</th>\n",
       "      <th>incidents_85_99</th>\n",
       "      <th>fatal_accidents_85_99</th>\n",
       "      <th>fatalities_85_99</th>\n",
       "      <th>incidents_00_14</th>\n",
       "      <th>fatal_accidents_00_14</th>\n",
       "      <th>fatalities_00_14</th>\n",
       "      <th>avail_seat_km</th>\n",
       "      <th>incident_rate_85_99</th>\n",
       "      <th>fatal_accidents_rate_85_99</th>\n",
       "      <th>fatalities_rate_85_99</th>\n",
       "      <th>incident_rate_00_14</th>\n",
       "      <th>fatal_accidents_rate_00_14</th>\n",
       "      <th>fatalities_rate_00_14</th>\n",
       "      <th>Incident Rate % Change</th>\n",
       "      <th>Fatal Accidents Rate % Change</th>\n",
       "    </tr>\n",
       "  </thead>\n",
       "  <tbody>\n",
       "    <tr>\n",
       "      <th>43</th>\n",
       "      <td>Southwest Airlines</td>\n",
       "      <td>3276525770</td>\n",
       "      <td>1</td>\n",
       "      <td>0</td>\n",
       "      <td>0</td>\n",
       "      <td>8</td>\n",
       "      <td>0</td>\n",
       "      <td>0</td>\n",
       "      <td>2555690100600</td>\n",
       "      <td>0.391284</td>\n",
       "      <td>0.00000</td>\n",
       "      <td>0.000000</td>\n",
       "      <td>3.130270</td>\n",
       "      <td>0.00000</td>\n",
       "      <td>0.000000</td>\n",
       "      <td>700.000000</td>\n",
       "      <td>0.0</td>\n",
       "    </tr>\n",
       "    <tr>\n",
       "      <th>37</th>\n",
       "      <td>Qantas*</td>\n",
       "      <td>1917428984</td>\n",
       "      <td>1</td>\n",
       "      <td>0</td>\n",
       "      <td>0</td>\n",
       "      <td>5</td>\n",
       "      <td>0</td>\n",
       "      <td>0</td>\n",
       "      <td>1495594607520</td>\n",
       "      <td>0.668630</td>\n",
       "      <td>0.00000</td>\n",
       "      <td>0.000000</td>\n",
       "      <td>3.343152</td>\n",
       "      <td>0.00000</td>\n",
       "      <td>0.000000</td>\n",
       "      <td>400.000000</td>\n",
       "      <td>0.0</td>\n",
       "    </tr>\n",
       "    <tr>\n",
       "      <th>25</th>\n",
       "      <td>Gulf Air</td>\n",
       "      <td>301379762</td>\n",
       "      <td>1</td>\n",
       "      <td>0</td>\n",
       "      <td>0</td>\n",
       "      <td>3</td>\n",
       "      <td>1</td>\n",
       "      <td>143</td>\n",
       "      <td>235076214360</td>\n",
       "      <td>4.253940</td>\n",
       "      <td>0.00000</td>\n",
       "      <td>0.000000</td>\n",
       "      <td>12.761819</td>\n",
       "      <td>4.25394</td>\n",
       "      <td>608.313352</td>\n",
       "      <td>200.000000</td>\n",
       "      <td>NaN</td>\n",
       "    </tr>\n",
       "    <tr>\n",
       "      <th>10</th>\n",
       "      <td>All Nippon Airways</td>\n",
       "      <td>1841234177</td>\n",
       "      <td>3</td>\n",
       "      <td>1</td>\n",
       "      <td>1</td>\n",
       "      <td>7</td>\n",
       "      <td>0</td>\n",
       "      <td>0</td>\n",
       "      <td>1436162658060</td>\n",
       "      <td>2.088900</td>\n",
       "      <td>0.69630</td>\n",
       "      <td>0.696300</td>\n",
       "      <td>4.874100</td>\n",
       "      <td>0.00000</td>\n",
       "      <td>0.000000</td>\n",
       "      <td>133.333333</td>\n",
       "      <td>-100.0</td>\n",
       "    </tr>\n",
       "    <tr>\n",
       "      <th>44</th>\n",
       "      <td>Sri Lankan / AirLanka</td>\n",
       "      <td>325582976</td>\n",
       "      <td>2</td>\n",
       "      <td>1</td>\n",
       "      <td>14</td>\n",
       "      <td>4</td>\n",
       "      <td>0</td>\n",
       "      <td>0</td>\n",
       "      <td>253954721280</td>\n",
       "      <td>7.875420</td>\n",
       "      <td>3.93771</td>\n",
       "      <td>55.127937</td>\n",
       "      <td>15.750839</td>\n",
       "      <td>0.00000</td>\n",
       "      <td>0.000000</td>\n",
       "      <td>100.000000</td>\n",
       "      <td>-100.0</td>\n",
       "    </tr>\n",
       "  </tbody>\n",
       "</table>\n",
       "</div>"
      ],
      "text/plain": [
       "                  airline  avail_seat_km_per_week  incidents_85_99  \\\n",
       "43     Southwest Airlines              3276525770                1   \n",
       "37                Qantas*              1917428984                1   \n",
       "25               Gulf Air               301379762                1   \n",
       "10     All Nippon Airways              1841234177                3   \n",
       "44  Sri Lankan / AirLanka               325582976                2   \n",
       "\n",
       "    fatal_accidents_85_99  fatalities_85_99  incidents_00_14  \\\n",
       "43                      0                 0                8   \n",
       "37                      0                 0                5   \n",
       "25                      0                 0                3   \n",
       "10                      1                 1                7   \n",
       "44                      1                14                4   \n",
       "\n",
       "    fatal_accidents_00_14  fatalities_00_14  avail_seat_km  \\\n",
       "43                      0                 0  2555690100600   \n",
       "37                      0                 0  1495594607520   \n",
       "25                      1               143   235076214360   \n",
       "10                      0                 0  1436162658060   \n",
       "44                      0                 0   253954721280   \n",
       "\n",
       "    incident_rate_85_99  fatal_accidents_rate_85_99  fatalities_rate_85_99  \\\n",
       "43             0.391284                     0.00000               0.000000   \n",
       "37             0.668630                     0.00000               0.000000   \n",
       "25             4.253940                     0.00000               0.000000   \n",
       "10             2.088900                     0.69630               0.696300   \n",
       "44             7.875420                     3.93771              55.127937   \n",
       "\n",
       "    incident_rate_00_14  fatal_accidents_rate_00_14  fatalities_rate_00_14  \\\n",
       "43             3.130270                     0.00000               0.000000   \n",
       "37             3.343152                     0.00000               0.000000   \n",
       "25            12.761819                     4.25394             608.313352   \n",
       "10             4.874100                     0.00000               0.000000   \n",
       "44            15.750839                     0.00000               0.000000   \n",
       "\n",
       "    Incident Rate % Change  Fatal Accidents Rate % Change  \n",
       "43              700.000000                            0.0  \n",
       "37              400.000000                            0.0  \n",
       "25              200.000000                            NaN  \n",
       "10              133.333333                         -100.0  \n",
       "44              100.000000                         -100.0  "
      ]
     },
     "execution_count": 17,
     "metadata": {},
     "output_type": "execute_result"
    }
   ],
   "source": [
    "df.sort_values(by = 'Incident Rate % Change', ascending = False).head()\n"
   ]
  },
  {
   "cell_type": "code",
   "execution_count": 18,
   "metadata": {},
   "outputs": [
    {
     "data": {
      "text/plain": [
       "43    700.00%\n",
       "37    400.00%\n",
       "25    200.00%\n",
       "10    133.33%\n",
       "44    100.00%\n",
       "Name: Incident Rate % Change, dtype: object"
      ]
     },
     "execution_count": 18,
     "metadata": {},
     "output_type": "execute_result"
    }
   ],
   "source": [
    "df_incidents['Incident Rate % Change'].head()"
   ]
  },
  {
   "cell_type": "code",
   "execution_count": 19,
   "metadata": {},
   "outputs": [],
   "source": [
    "import numpy as np\n",
    "from sklearn.linear_model import LinearRegression\n",
    "from sklearn.model_selection import train_test_split"
   ]
  },
  {
   "cell_type": "code",
   "execution_count": 20,
   "metadata": {},
   "outputs": [],
   "source": [
    "X = df.incident_rate_85_99[:, None]\n"
   ]
  },
  {
   "cell_type": "code",
   "execution_count": 21,
   "metadata": {},
   "outputs": [
    {
     "data": {
      "text/plain": [
       "array([[ 7.99017999],\n",
       "       [81.35438715],\n",
       "       [19.93840061],\n",
       "       [ 6.44385237],\n",
       "       [ 1.37466685],\n",
       "       [ 5.9749341 ],\n",
       "       [ 2.94977519],\n",
       "       [ 5.41578461],\n",
       "       [ 6.64036654],\n",
       "       [12.8570176 ],\n",
       "       [ 2.08889988],\n",
       "       [ 5.14943321],\n",
       "       [ 3.57875144],\n",
       "       [16.14989171],\n",
       "       [ 1.61276436],\n",
       "       [ 0.        ],\n",
       "       [18.91822858],\n",
       "       [ 6.13447187],\n",
       "       [ 6.98676328],\n",
       "       [ 4.71511479],\n",
       "       [18.39055453],\n",
       "       [ 3.8219074 ],\n",
       "       [65.60348753],\n",
       "       [ 2.53137218],\n",
       "       [20.9022149 ],\n",
       "       [ 4.25393953],\n",
       "       [ 0.        ],\n",
       "       [ 4.37111444],\n",
       "       [ 2.44321625],\n",
       "       [ 9.24284724],\n",
       "       [ 4.78744371],\n",
       "       [ 8.86965401],\n",
       "       [ 3.83860756],\n",
       "       [ 2.24492674],\n",
       "       [ 3.70117425],\n",
       "       [29.42482772],\n",
       "       [21.72930614],\n",
       "       [ 0.66863039],\n",
       "       [21.67785144],\n",
       "       [ 9.38582812],\n",
       "       [10.43925954],\n",
       "       [ 1.07877828],\n",
       "       [ 3.93567606],\n",
       "       [ 0.39128375],\n",
       "       [ 7.87541964],\n",
       "       [ 3.23504714],\n",
       "       [14.82863951],\n",
       "       [ 6.79594477],\n",
       "       [ 0.        ],\n",
       "       [ 6.02325388],\n",
       "       [ 5.27024266],\n",
       "       [ 3.41195973],\n",
       "       [ 8.35318715],\n",
       "       [14.35702369],\n",
       "       [ 1.27535746],\n",
       "       [26.80477197]])"
      ]
     },
     "execution_count": 21,
     "metadata": {},
     "output_type": "execute_result"
    }
   ],
   "source": [
    "X"
   ]
  },
  {
   "cell_type": "code",
   "execution_count": 22,
   "metadata": {},
   "outputs": [],
   "source": [
    "X_train, X_test, y_train, y_test = train_test_split(X, df.incident_rate_00_14, random_state=0)"
   ]
  },
  {
   "cell_type": "code",
   "execution_count": 23,
   "metadata": {},
   "outputs": [],
   "source": [
    "model = LinearRegression()"
   ]
  },
  {
   "cell_type": "code",
   "execution_count": 24,
   "metadata": {},
   "outputs": [
    {
     "data": {
      "text/plain": [
       "LinearRegression()"
      ]
     },
     "execution_count": 24,
     "metadata": {},
     "output_type": "execute_result"
    }
   ],
   "source": [
    "model.fit(X_train, y_train)"
   ]
  },
  {
   "cell_type": "code",
   "execution_count": 29,
   "metadata": {},
   "outputs": [
    {
     "data": {
      "text/plain": [
       "0.31105926895307723"
      ]
     },
     "execution_count": 29,
     "metadata": {},
     "output_type": "execute_result"
    }
   ],
   "source": [
    "df.loc[:, ['fatal_accidents_rate_00_14', 'fatal_accidents_rate_85_99']].corr()['fatal_accidents_rate_00_14']['fatal_accidents_rate_85_99']"
   ]
  },
  {
   "cell_type": "code",
   "execution_count": null,
   "metadata": {},
   "outputs": [],
   "source": []
  }
 ],
 "metadata": {
  "kernelspec": {
   "display_name": "Python 3",
   "language": "python",
   "name": "python3"
  },
  "language_info": {
   "codemirror_mode": {
    "name": "ipython",
    "version": 3
   },
   "file_extension": ".py",
   "mimetype": "text/x-python",
   "name": "python",
   "nbconvert_exporter": "python",
   "pygments_lexer": "ipython3",
   "version": "3.8.3"
  }
 },
 "nbformat": 4,
 "nbformat_minor": 4
}
